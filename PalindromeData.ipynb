{
 "cells": [
  {
   "cell_type": "code",
   "execution_count": 194,
   "id": "04d9e1ba",
   "metadata": {},
   "outputs": [],
   "source": [
    "import pandas as pd\n",
    "import re\n",
    "import matplotlib.pyplot as plt\n",
    "import numpy as np"
   ]
  },
  {
   "cell_type": "code",
   "execution_count": 140,
   "id": "8ee655c9",
   "metadata": {},
   "outputs": [],
   "source": [
    "df = pd.read_excel(\"pone.0212445.s004.xlsx\")"
   ]
  },
  {
   "cell_type": "code",
   "execution_count": 141,
   "id": "b29cc730",
   "metadata": {},
   "outputs": [],
   "source": [
    "SurveyRowData = df.loc[df['Estimate'] == 'Survey']"
   ]
  },
  {
   "cell_type": "code",
   "execution_count": 159,
   "id": "608e5e57",
   "metadata": {},
   "outputs": [],
   "source": [
    "SurveyRowData;"
   ]
  },
  {
   "cell_type": "code",
   "execution_count": 143,
   "id": "5b8af8c4",
   "metadata": {},
   "outputs": [],
   "source": [
    "TotNoPLHIV = df['NoPLHIV'].sum()"
   ]
  },
  {
   "cell_type": "code",
   "execution_count": 144,
   "id": "71e96646",
   "metadata": {},
   "outputs": [
    {
     "name": "stdout",
     "output_type": "stream",
     "text": [
      "Total number of people living with HIV according to the Survey estimate = 12887080\n"
     ]
    }
   ],
   "source": [
    "print(\"Total number of people living with HIV according to the Survey estimate =\", TotNoPLHIV) "
   ]
  },
  {
   "cell_type": "code",
   "execution_count": 145,
   "id": "a10f6aed",
   "metadata": {},
   "outputs": [],
   "source": [
    "XhariepData = df.loc[df['District'] == 'Xhariep']['NoPLHIV'].mean()"
   ]
  },
  {
   "cell_type": "code",
   "execution_count": 146,
   "id": "2ea17314",
   "metadata": {},
   "outputs": [
    {
     "name": "stdout",
     "output_type": "stream",
     "text": [
      "Average NoPLHIV of the two estimates used for “Xhariep” = 12247.5\n"
     ]
    }
   ],
   "source": [
    "print(\"Average NoPLHIV of the two estimates used for “Xhariep” =\", XhariepData)"
   ]
  },
  {
   "cell_type": "code",
   "execution_count": 147,
   "id": "c97116ae",
   "metadata": {},
   "outputs": [],
   "source": [
    "df[\"Number of people not living with HIV\"] = df[\"NoPLHIV\"]*(100 - df[\"Prevalence_%\"])/df[\"Prevalence_%\"]"
   ]
  },
  {
   "cell_type": "code",
   "execution_count": 215,
   "id": "71ff6182",
   "metadata": {},
   "outputs": [
    {
     "data": {
      "text/html": [
       "<div>\n",
       "<style scoped>\n",
       "    .dataframe tbody tr th:only-of-type {\n",
       "        vertical-align: middle;\n",
       "    }\n",
       "\n",
       "    .dataframe tbody tr th {\n",
       "        vertical-align: top;\n",
       "    }\n",
       "\n",
       "    .dataframe thead th {\n",
       "        text-align: right;\n",
       "    }\n",
       "</style>\n",
       "<table border=\"1\" class=\"dataframe\">\n",
       "  <thead>\n",
       "    <tr style=\"text-align: right;\">\n",
       "      <th></th>\n",
       "      <th>District</th>\n",
       "      <th>Code</th>\n",
       "      <th>Estimate</th>\n",
       "      <th>Prevalence</th>\n",
       "      <th>Prevalence LCL</th>\n",
       "      <th>Prevalence UCL</th>\n",
       "      <th>NoPLHIV</th>\n",
       "      <th>NoPLHIV LCL</th>\n",
       "      <th>NoPLHIV UCL</th>\n",
       "      <th>NumberofpeoplenotlivingwithHIV</th>\n",
       "    </tr>\n",
       "  </thead>\n",
       "  <tbody>\n",
       "    <tr>\n",
       "      <th>0</th>\n",
       "      <td>Buffalo City</td>\n",
       "      <td>BUF</td>\n",
       "      <td>Survey</td>\n",
       "      <td>13.600000</td>\n",
       "      <td>10.268000</td>\n",
       "      <td>16.932000</td>\n",
       "      <td>102437</td>\n",
       "      <td>77340</td>\n",
       "      <td>127534</td>\n",
       "      <td>6.507762e+05</td>\n",
       "    </tr>\n",
       "    <tr>\n",
       "      <th>1</th>\n",
       "      <td>Buffalo City</td>\n",
       "      <td>BUF</td>\n",
       "      <td>Fay-Heriott</td>\n",
       "      <td>13.501283</td>\n",
       "      <td>11.031605</td>\n",
       "      <td>16.421802</td>\n",
       "      <td>101693</td>\n",
       "      <td>83092</td>\n",
       "      <td>123691</td>\n",
       "      <td>6.515169e+05</td>\n",
       "    </tr>\n",
       "    <tr>\n",
       "      <th>2</th>\n",
       "      <td>City of Cape Town</td>\n",
       "      <td>CPT</td>\n",
       "      <td>Survey</td>\n",
       "      <td>5.200000</td>\n",
       "      <td>3.044000</td>\n",
       "      <td>7.356000</td>\n",
       "      <td>200751</td>\n",
       "      <td>117517</td>\n",
       "      <td>283985</td>\n",
       "      <td>3.659845e+06</td>\n",
       "    </tr>\n",
       "    <tr>\n",
       "      <th>3</th>\n",
       "      <td>City of Cape Town</td>\n",
       "      <td>CPT</td>\n",
       "      <td>Fay-Heriott</td>\n",
       "      <td>6.020043</td>\n",
       "      <td>4.335072</td>\n",
       "      <td>8.303091</td>\n",
       "      <td>232409</td>\n",
       "      <td>167359</td>\n",
       "      <td>320548</td>\n",
       "      <td>3.628178e+06</td>\n",
       "    </tr>\n",
       "    <tr>\n",
       "      <th>4</th>\n",
       "      <td>West Coast</td>\n",
       "      <td>DC1</td>\n",
       "      <td>Survey</td>\n",
       "      <td>2.700000</td>\n",
       "      <td>0.000000</td>\n",
       "      <td>5.444000</td>\n",
       "      <td>11302</td>\n",
       "      <td>0</td>\n",
       "      <td>22789</td>\n",
       "      <td>4.072906e+05</td>\n",
       "    </tr>\n",
       "    <tr>\n",
       "      <th>...</th>\n",
       "      <td>...</td>\n",
       "      <td>...</td>\n",
       "      <td>...</td>\n",
       "      <td>...</td>\n",
       "      <td>...</td>\n",
       "      <td>...</td>\n",
       "      <td>...</td>\n",
       "      <td>...</td>\n",
       "      <td>...</td>\n",
       "      <td>...</td>\n",
       "    </tr>\n",
       "    <tr>\n",
       "      <th>99</th>\n",
       "      <td>Mangaung</td>\n",
       "      <td>MAN</td>\n",
       "      <td>Fay-Heriott</td>\n",
       "      <td>9.147425</td>\n",
       "      <td>6.725917</td>\n",
       "      <td>12.325536</td>\n",
       "      <td>101520</td>\n",
       "      <td>74646</td>\n",
       "      <td>136792</td>\n",
       "      <td>1.008301e+06</td>\n",
       "    </tr>\n",
       "    <tr>\n",
       "      <th>100</th>\n",
       "      <td>Nelson Mandela Bay Metro</td>\n",
       "      <td>NMA</td>\n",
       "      <td>Survey</td>\n",
       "      <td>8.300000</td>\n",
       "      <td>3.400000</td>\n",
       "      <td>13.200000</td>\n",
       "      <td>97459</td>\n",
       "      <td>39923</td>\n",
       "      <td>154995</td>\n",
       "      <td>1.076746e+06</td>\n",
       "    </tr>\n",
       "    <tr>\n",
       "      <th>101</th>\n",
       "      <td>Nelson Mandela Bay Metro</td>\n",
       "      <td>NMA</td>\n",
       "      <td>Fay-Heriott</td>\n",
       "      <td>9.054060</td>\n",
       "      <td>6.128703</td>\n",
       "      <td>13.179704</td>\n",
       "      <td>106313</td>\n",
       "      <td>71964</td>\n",
       "      <td>154757</td>\n",
       "      <td>1.067889e+06</td>\n",
       "    </tr>\n",
       "    <tr>\n",
       "      <th>102</th>\n",
       "      <td>City of Tshwane</td>\n",
       "      <td>TSH</td>\n",
       "      <td>Survey</td>\n",
       "      <td>11.700000</td>\n",
       "      <td>7.388000</td>\n",
       "      <td>16.012000</td>\n",
       "      <td>361450</td>\n",
       "      <td>228239</td>\n",
       "      <td>494661</td>\n",
       "      <td>2.727866e+06</td>\n",
       "    </tr>\n",
       "    <tr>\n",
       "      <th>103</th>\n",
       "      <td>City of Tshwane</td>\n",
       "      <td>TSH</td>\n",
       "      <td>Fay-Heriott</td>\n",
       "      <td>11.024858</td>\n",
       "      <td>8.255934</td>\n",
       "      <td>14.574909</td>\n",
       "      <td>340593</td>\n",
       "      <td>255052</td>\n",
       "      <td>450265</td>\n",
       "      <td>2.748726e+06</td>\n",
       "    </tr>\n",
       "  </tbody>\n",
       "</table>\n",
       "<p>104 rows × 10 columns</p>\n",
       "</div>"
      ],
      "text/plain": [
       "                     District Code     Estimate  Prevalence   Prevalence LCL  \\\n",
       "0                Buffalo City  BUF       Survey    13.600000       10.268000   \n",
       "1                Buffalo City  BUF  Fay-Heriott    13.501283       11.031605   \n",
       "2           City of Cape Town  CPT       Survey     5.200000        3.044000   \n",
       "3           City of Cape Town  CPT  Fay-Heriott     6.020043        4.335072   \n",
       "4                  West Coast  DC1       Survey     2.700000        0.000000   \n",
       "..                        ...  ...          ...          ...             ...   \n",
       "99                   Mangaung  MAN  Fay-Heriott     9.147425        6.725917   \n",
       "100  Nelson Mandela Bay Metro  NMA       Survey     8.300000        3.400000   \n",
       "101  Nelson Mandela Bay Metro  NMA  Fay-Heriott     9.054060        6.128703   \n",
       "102           City of Tshwane  TSH       Survey    11.700000        7.388000   \n",
       "103           City of Tshwane  TSH  Fay-Heriott    11.024858        8.255934   \n",
       "\n",
       "     Prevalence UCL  NoPLHIV  NoPLHIV LCL  NoPLHIV UCL  \\\n",
       "0         16.932000   102437        77340       127534   \n",
       "1         16.421802   101693        83092       123691   \n",
       "2          7.356000   200751       117517       283985   \n",
       "3          8.303091   232409       167359       320548   \n",
       "4          5.444000    11302            0        22789   \n",
       "..              ...      ...          ...          ...   \n",
       "99        12.325536   101520        74646       136792   \n",
       "100       13.200000    97459        39923       154995   \n",
       "101       13.179704   106313        71964       154757   \n",
       "102       16.012000   361450       228239       494661   \n",
       "103       14.574909   340593       255052       450265   \n",
       "\n",
       "     NumberofpeoplenotlivingwithHIV  \n",
       "0                      6.507762e+05  \n",
       "1                      6.515169e+05  \n",
       "2                      3.659845e+06  \n",
       "3                      3.628178e+06  \n",
       "4                      4.072906e+05  \n",
       "..                              ...  \n",
       "99                     1.008301e+06  \n",
       "100                    1.076746e+06  \n",
       "101                    1.067889e+06  \n",
       "102                    2.727866e+06  \n",
       "103                    2.748726e+06  \n",
       "\n",
       "[104 rows x 10 columns]"
      ]
     },
     "execution_count": 215,
     "metadata": {},
     "output_type": "execute_result"
    }
   ],
   "source": [
    "df"
   ]
  },
  {
   "cell_type": "code",
   "execution_count": 149,
   "id": "cdc43923",
   "metadata": {},
   "outputs": [],
   "source": [
    "CityData = df[df['District'].str.contains('City|Metro')]"
   ]
  },
  {
   "cell_type": "code",
   "execution_count": 150,
   "id": "5893cf32",
   "metadata": {},
   "outputs": [],
   "source": [
    "CityData;"
   ]
  },
  {
   "cell_type": "code",
   "execution_count": 151,
   "id": "79fb9bce",
   "metadata": {},
   "outputs": [],
   "source": [
    "CityNoPLHIV = CityData['NoPLHIV'].sum()"
   ]
  },
  {
   "cell_type": "code",
   "execution_count": 152,
   "id": "1642470f",
   "metadata": {},
   "outputs": [
    {
     "name": "stdout",
     "output_type": "stream",
     "text": [
      "Total number of people living with HIV in all the cities = 2572733\n"
     ]
    }
   ],
   "source": [
    "print(\"Total number of people living with HIV in all the cities =\", CityNoPLHIV) "
   ]
  },
  {
   "cell_type": "code",
   "execution_count": 154,
   "id": "0b3cc8f2",
   "metadata": {},
   "outputs": [],
   "source": [
    "df.columns = df.columns.str.replace(r'\\W', '', regex=True)"
   ]
  },
  {
   "cell_type": "code",
   "execution_count": 156,
   "id": "f426e9f0",
   "metadata": {},
   "outputs": [],
   "source": [
    "df.columns = df.columns.str.replace('_',' ')"
   ]
  },
  {
   "cell_type": "code",
   "execution_count": 177,
   "id": "e14a072a",
   "metadata": {},
   "outputs": [
    {
     "name": "stdout",
     "output_type": "stream",
     "text": [
      "Index(['District', 'Code', 'Estimate', 'Prevalence ', 'Prevalence LCL',\n",
      "       'Prevalence UCL', 'NoPLHIV', 'NoPLHIV LCL', 'NoPLHIV UCL',\n",
      "       'NumberofpeoplenotlivingwithHIV'],\n",
      "      dtype='object')\n"
     ]
    }
   ],
   "source": [
    "print(df.columns)"
   ]
  },
  {
   "cell_type": "code",
   "execution_count": 161,
   "id": "b434d5c9",
   "metadata": {},
   "outputs": [],
   "source": [
    "FHRowData = df.loc[df['Estimate'] == 'Fay-Heriott']"
   ]
  },
  {
   "cell_type": "code",
   "execution_count": 208,
   "id": "6009aa4b",
   "metadata": {},
   "outputs": [],
   "source": [
    "mask = FHRowData['District'].str.endswith('i')"
   ]
  },
  {
   "cell_type": "code",
   "execution_count": 209,
   "id": "2bf7696c",
   "metadata": {},
   "outputs": [],
   "source": [
    "Data = FHRowData[mask]"
   ]
  },
  {
   "cell_type": "code",
   "execution_count": 210,
   "id": "823e80dd",
   "metadata": {},
   "outputs": [
    {
     "data": {
      "text/html": [
       "<div>\n",
       "<style scoped>\n",
       "    .dataframe tbody tr th:only-of-type {\n",
       "        vertical-align: middle;\n",
       "    }\n",
       "\n",
       "    .dataframe tbody tr th {\n",
       "        vertical-align: top;\n",
       "    }\n",
       "\n",
       "    .dataframe thead th {\n",
       "        text-align: right;\n",
       "    }\n",
       "</style>\n",
       "<table border=\"1\" class=\"dataframe\">\n",
       "  <thead>\n",
       "    <tr style=\"text-align: right;\">\n",
       "      <th></th>\n",
       "      <th>District</th>\n",
       "      <th>Code</th>\n",
       "      <th>Estimate</th>\n",
       "      <th>Prevalence</th>\n",
       "      <th>Prevalence LCL</th>\n",
       "      <th>Prevalence UCL</th>\n",
       "      <th>NoPLHIV</th>\n",
       "      <th>NoPLHIV LCL</th>\n",
       "      <th>NoPLHIV UCL</th>\n",
       "      <th>NumberofpeoplenotlivingwithHIV</th>\n",
       "    </tr>\n",
       "  </thead>\n",
       "  <tbody>\n",
       "    <tr>\n",
       "      <th>11</th>\n",
       "      <td>Chris Hani</td>\n",
       "      <td>DC13</td>\n",
       "      <td>Fay-Heriott</td>\n",
       "      <td>14.080983</td>\n",
       "      <td>11.181220</td>\n",
       "      <td>17.583893</td>\n",
       "      <td>113090</td>\n",
       "      <td>89801</td>\n",
       "      <td>141224</td>\n",
       "      <td>6.900500e+05</td>\n",
       "    </tr>\n",
       "    <tr>\n",
       "      <th>13</th>\n",
       "      <td>Joe Gqabi</td>\n",
       "      <td>DC14</td>\n",
       "      <td>Fay-Heriott</td>\n",
       "      <td>11.507804</td>\n",
       "      <td>9.291766</td>\n",
       "      <td>14.169794</td>\n",
       "      <td>40618</td>\n",
       "      <td>32796</td>\n",
       "      <td>50013</td>\n",
       "      <td>3.123425e+05</td>\n",
       "    </tr>\n",
       "    <tr>\n",
       "      <th>25</th>\n",
       "      <td>Fezile Dabi</td>\n",
       "      <td>DC20</td>\n",
       "      <td>Fay-Heriott</td>\n",
       "      <td>10.030754</td>\n",
       "      <td>7.811309</td>\n",
       "      <td>12.793304</td>\n",
       "      <td>50767</td>\n",
       "      <td>39534</td>\n",
       "      <td>64748</td>\n",
       "      <td>4.553465e+05</td>\n",
       "    </tr>\n",
       "    <tr>\n",
       "      <th>33</th>\n",
       "      <td>uMzinyathi</td>\n",
       "      <td>DC24</td>\n",
       "      <td>Fay-Heriott</td>\n",
       "      <td>18.097578</td>\n",
       "      <td>16.845087</td>\n",
       "      <td>19.421445</td>\n",
       "      <td>93061</td>\n",
       "      <td>86620</td>\n",
       "      <td>99868</td>\n",
       "      <td>4.211570e+05</td>\n",
       "    </tr>\n",
       "    <tr>\n",
       "      <th>51</th>\n",
       "      <td>Ehlanzeni</td>\n",
       "      <td>DC32</td>\n",
       "      <td>Fay-Heriott</td>\n",
       "      <td>15.820960</td>\n",
       "      <td>12.012425</td>\n",
       "      <td>20.554906</td>\n",
       "      <td>271179</td>\n",
       "      <td>205899</td>\n",
       "      <td>352321</td>\n",
       "      <td>1.442870e+06</td>\n",
       "    </tr>\n",
       "    <tr>\n",
       "      <th>53</th>\n",
       "      <td>Mopani</td>\n",
       "      <td>DC33</td>\n",
       "      <td>Fay-Heriott</td>\n",
       "      <td>11.294971</td>\n",
       "      <td>7.921185</td>\n",
       "      <td>15.858238</td>\n",
       "      <td>87157</td>\n",
       "      <td>61123</td>\n",
       "      <td>122369</td>\n",
       "      <td>6.844873e+05</td>\n",
       "    </tr>\n",
       "    <tr>\n",
       "      <th>65</th>\n",
       "      <td>Dr Ruth Segomotsi Mompati</td>\n",
       "      <td>DC39</td>\n",
       "      <td>Fay-Heriott</td>\n",
       "      <td>11.045235</td>\n",
       "      <td>8.164344</td>\n",
       "      <td>14.779090</td>\n",
       "      <td>52136</td>\n",
       "      <td>38538</td>\n",
       "      <td>69761</td>\n",
       "      <td>4.198866e+05</td>\n",
       "    </tr>\n",
       "    <tr>\n",
       "      <th>93</th>\n",
       "      <td>Ekurhuleni</td>\n",
       "      <td>EKU</td>\n",
       "      <td>Fay-Heriott</td>\n",
       "      <td>13.678908</td>\n",
       "      <td>10.647292</td>\n",
       "      <td>17.405572</td>\n",
       "      <td>441990</td>\n",
       "      <td>344033</td>\n",
       "      <td>562405</td>\n",
       "      <td>2.789189e+06</td>\n",
       "    </tr>\n",
       "    <tr>\n",
       "      <th>95</th>\n",
       "      <td>eThekwini</td>\n",
       "      <td>ETH</td>\n",
       "      <td>Fay-Heriott</td>\n",
       "      <td>14.537772</td>\n",
       "      <td>11.791222</td>\n",
       "      <td>17.795017</td>\n",
       "      <td>503618</td>\n",
       "      <td>408472</td>\n",
       "      <td>616456</td>\n",
       "      <td>2.960585e+06</td>\n",
       "    </tr>\n",
       "  </tbody>\n",
       "</table>\n",
       "</div>"
      ],
      "text/plain": [
       "                     District  Code     Estimate  Prevalence   Prevalence LCL  \\\n",
       "11                 Chris Hani  DC13  Fay-Heriott    14.080983       11.181220   \n",
       "13                  Joe Gqabi  DC14  Fay-Heriott    11.507804        9.291766   \n",
       "25                Fezile Dabi  DC20  Fay-Heriott    10.030754        7.811309   \n",
       "33                 uMzinyathi  DC24  Fay-Heriott    18.097578       16.845087   \n",
       "51                  Ehlanzeni  DC32  Fay-Heriott    15.820960       12.012425   \n",
       "53                     Mopani  DC33  Fay-Heriott    11.294971        7.921185   \n",
       "65  Dr Ruth Segomotsi Mompati  DC39  Fay-Heriott    11.045235        8.164344   \n",
       "93                 Ekurhuleni   EKU  Fay-Heriott    13.678908       10.647292   \n",
       "95                  eThekwini   ETH  Fay-Heriott    14.537772       11.791222   \n",
       "\n",
       "    Prevalence UCL  NoPLHIV  NoPLHIV LCL  NoPLHIV UCL  \\\n",
       "11       17.583893   113090        89801       141224   \n",
       "13       14.169794    40618        32796        50013   \n",
       "25       12.793304    50767        39534        64748   \n",
       "33       19.421445    93061        86620        99868   \n",
       "51       20.554906   271179       205899       352321   \n",
       "53       15.858238    87157        61123       122369   \n",
       "65       14.779090    52136        38538        69761   \n",
       "93       17.405572   441990       344033       562405   \n",
       "95       17.795017   503618       408472       616456   \n",
       "\n",
       "    NumberofpeoplenotlivingwithHIV  \n",
       "11                    6.900500e+05  \n",
       "13                    3.123425e+05  \n",
       "25                    4.553465e+05  \n",
       "33                    4.211570e+05  \n",
       "51                    1.442870e+06  \n",
       "53                    6.844873e+05  \n",
       "65                    4.198866e+05  \n",
       "93                    2.789189e+06  \n",
       "95                    2.960585e+06  "
      ]
     },
     "execution_count": 210,
     "metadata": {},
     "output_type": "execute_result"
    }
   ],
   "source": [
    "Data"
   ]
  },
  {
   "cell_type": "code",
   "execution_count": 214,
   "id": "9796665a",
   "metadata": {},
   "outputs": [
    {
     "name": "stderr",
     "output_type": "stream",
     "text": [
      "C:\\Users\\Wikus\\AppData\\Local\\Temp\\ipykernel_15860\\2406448537.py:2: UserWarning: color is redundantly defined by the 'color' keyword argument and the fmt string \"ro-\" (-> color='r'). The keyword argument will take precedence.\n",
      "  plt.plot((low,up),(y,y),'ro-',color='blue')\n"
     ]
    },
    {
     "data": {
      "text/plain": [
       "Text(0.5, 1.0, 'Prevalence confidence intervals')"
      ]
     },
     "execution_count": 214,
     "metadata": {},
     "output_type": "execute_result"
    },
    {
     "data": {
      "image/png": "[encoded data removed]",
      "text/plain": [
       "<Figure size 640x480 with 1 Axes>"
      ]
     },
     "metadata": {},
     "output_type": "display_data"
    }
   ],
   "source": [
    "for low,up,y in zip(Data['Prevalence LCL'],Data['Prevalence UCL'],range(len(Data))):\n",
    "    plt.plot((low,up),(y,y),'ro-',color='blue')\n",
    "plt.yticks(range(len(Data)),list(Data['District']))\n",
    "plt.title('Prevalence confidence intervals')"
   ]
  },
  {
   "cell_type": "code",
   "execution_count": null,
   "id": "6bbfc9a4",
   "metadata": {},
   "outputs": [],
   "source": []
  }
 ],
 "metadata": {
  "kernelspec": {
   "display_name": "Python 3 (ipykernel)",
   "language": "python",
   "name": "python3"
  },
  "language_info": {
   "codemirror_mode": {
    "name": "ipython",
    "version": 3
   },
   "file_extension": ".py",
   "mimetype": "text/x-python",
   "name": "python",
   "nbconvert_exporter": "python",
   "pygments_lexer": "ipython3",
   "version": "3.11.5"
  }
 },
 "nbformat": 4,
 "nbformat_minor": 5
}
